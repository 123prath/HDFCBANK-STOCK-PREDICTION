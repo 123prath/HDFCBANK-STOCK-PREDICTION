{
 "cells": [
  {
   "cell_type": "code",
   "execution_count": 1,
   "metadata": {},
   "outputs": [],
   "source": [
    "import tensorflow\n",
    "import keras\n",
    "import numpy as np\n",
    "import pandas as pd\n",
    "import matplotlib.pyplot as plt\n",
    "from tensorflow.keras.models import Sequential\n",
    "from tensorflow.keras.layers import Dense\n",
    "from tensorflow.keras.layers import LSTM\n",
    "from sklearn.metrics import mean_squared_error"
   ]
  },
  {
   "cell_type": "code",
   "execution_count": 2,
   "metadata": {},
   "outputs": [],
   "source": [
    "df = pd.read_csv(\"HDFCBANK.csv\")"
   ]
  },
  {
   "cell_type": "code",
   "execution_count": 3,
   "metadata": {},
   "outputs": [
    {
     "data": {
      "text/plain": [
       "(5204, 15)"
      ]
     },
     "execution_count": 3,
     "metadata": {},
     "output_type": "execute_result"
    }
   ],
   "source": [
    "df.shape"
   ]
  },
  {
   "cell_type": "code",
   "execution_count": 4,
   "metadata": {},
   "outputs": [
    {
     "data": {
      "text/html": [
       "<div>\n",
       "<style scoped>\n",
       "    .dataframe tbody tr th:only-of-type {\n",
       "        vertical-align: middle;\n",
       "    }\n",
       "\n",
       "    .dataframe tbody tr th {\n",
       "        vertical-align: top;\n",
       "    }\n",
       "\n",
       "    .dataframe thead th {\n",
       "        text-align: right;\n",
       "    }\n",
       "</style>\n",
       "<table border=\"1\" class=\"dataframe\">\n",
       "  <thead>\n",
       "    <tr style=\"text-align: right;\">\n",
       "      <th></th>\n",
       "      <th>Date</th>\n",
       "      <th>Symbol</th>\n",
       "      <th>Series</th>\n",
       "      <th>Prev Close</th>\n",
       "      <th>Open</th>\n",
       "      <th>High</th>\n",
       "      <th>Low</th>\n",
       "      <th>Last</th>\n",
       "      <th>Close</th>\n",
       "      <th>VWAP</th>\n",
       "      <th>Volume</th>\n",
       "      <th>Turnover</th>\n",
       "      <th>Trades</th>\n",
       "      <th>Deliverable Volume</th>\n",
       "      <th>%Deliverble</th>\n",
       "    </tr>\n",
       "  </thead>\n",
       "  <tbody>\n",
       "    <tr>\n",
       "      <th>0</th>\n",
       "      <td>2000-01-03</td>\n",
       "      <td>HDFCBANK</td>\n",
       "      <td>EQ</td>\n",
       "      <td>157.40</td>\n",
       "      <td>166.00</td>\n",
       "      <td>170.00</td>\n",
       "      <td>166.00</td>\n",
       "      <td>170.00</td>\n",
       "      <td>170.00</td>\n",
       "      <td>169.52</td>\n",
       "      <td>33259</td>\n",
       "      <td>5.638122e+11</td>\n",
       "      <td>NaN</td>\n",
       "      <td>NaN</td>\n",
       "      <td>NaN</td>\n",
       "    </tr>\n",
       "    <tr>\n",
       "      <th>1</th>\n",
       "      <td>2000-01-04</td>\n",
       "      <td>HDFCBANK</td>\n",
       "      <td>EQ</td>\n",
       "      <td>170.00</td>\n",
       "      <td>182.00</td>\n",
       "      <td>183.45</td>\n",
       "      <td>171.00</td>\n",
       "      <td>174.00</td>\n",
       "      <td>173.80</td>\n",
       "      <td>174.99</td>\n",
       "      <td>168710</td>\n",
       "      <td>2.952261e+12</td>\n",
       "      <td>NaN</td>\n",
       "      <td>NaN</td>\n",
       "      <td>NaN</td>\n",
       "    </tr>\n",
       "    <tr>\n",
       "      <th>2</th>\n",
       "      <td>2000-01-05</td>\n",
       "      <td>HDFCBANK</td>\n",
       "      <td>EQ</td>\n",
       "      <td>173.80</td>\n",
       "      <td>170.00</td>\n",
       "      <td>173.90</td>\n",
       "      <td>165.00</td>\n",
       "      <td>168.00</td>\n",
       "      <td>166.95</td>\n",
       "      <td>169.20</td>\n",
       "      <td>159820</td>\n",
       "      <td>2.704094e+12</td>\n",
       "      <td>NaN</td>\n",
       "      <td>NaN</td>\n",
       "      <td>NaN</td>\n",
       "    </tr>\n",
       "    <tr>\n",
       "      <th>3</th>\n",
       "      <td>2000-01-06</td>\n",
       "      <td>HDFCBANK</td>\n",
       "      <td>EQ</td>\n",
       "      <td>166.95</td>\n",
       "      <td>168.00</td>\n",
       "      <td>170.00</td>\n",
       "      <td>165.30</td>\n",
       "      <td>168.95</td>\n",
       "      <td>168.30</td>\n",
       "      <td>168.44</td>\n",
       "      <td>85026</td>\n",
       "      <td>1.432166e+12</td>\n",
       "      <td>NaN</td>\n",
       "      <td>NaN</td>\n",
       "      <td>NaN</td>\n",
       "    </tr>\n",
       "    <tr>\n",
       "      <th>4</th>\n",
       "      <td>2000-01-07</td>\n",
       "      <td>HDFCBANK</td>\n",
       "      <td>EQ</td>\n",
       "      <td>168.30</td>\n",
       "      <td>162.15</td>\n",
       "      <td>171.00</td>\n",
       "      <td>162.15</td>\n",
       "      <td>170.75</td>\n",
       "      <td>168.35</td>\n",
       "      <td>166.79</td>\n",
       "      <td>85144</td>\n",
       "      <td>1.420158e+12</td>\n",
       "      <td>NaN</td>\n",
       "      <td>NaN</td>\n",
       "      <td>NaN</td>\n",
       "    </tr>\n",
       "  </tbody>\n",
       "</table>\n",
       "</div>"
      ],
      "text/plain": [
       "         Date    Symbol Series  Prev Close    Open    High     Low    Last  \\\n",
       "0  2000-01-03  HDFCBANK     EQ      157.40  166.00  170.00  166.00  170.00   \n",
       "1  2000-01-04  HDFCBANK     EQ      170.00  182.00  183.45  171.00  174.00   \n",
       "2  2000-01-05  HDFCBANK     EQ      173.80  170.00  173.90  165.00  168.00   \n",
       "3  2000-01-06  HDFCBANK     EQ      166.95  168.00  170.00  165.30  168.95   \n",
       "4  2000-01-07  HDFCBANK     EQ      168.30  162.15  171.00  162.15  170.75   \n",
       "\n",
       "    Close    VWAP  Volume      Turnover  Trades  Deliverable Volume  \\\n",
       "0  170.00  169.52   33259  5.638122e+11     NaN                 NaN   \n",
       "1  173.80  174.99  168710  2.952261e+12     NaN                 NaN   \n",
       "2  166.95  169.20  159820  2.704094e+12     NaN                 NaN   \n",
       "3  168.30  168.44   85026  1.432166e+12     NaN                 NaN   \n",
       "4  168.35  166.79   85144  1.420158e+12     NaN                 NaN   \n",
       "\n",
       "   %Deliverble  \n",
       "0          NaN  \n",
       "1          NaN  \n",
       "2          NaN  \n",
       "3          NaN  \n",
       "4          NaN  "
      ]
     },
     "execution_count": 4,
     "metadata": {},
     "output_type": "execute_result"
    }
   ],
   "source": [
    "df.head()"
   ]
  },
  {
   "cell_type": "code",
   "execution_count": 5,
   "metadata": {},
   "outputs": [],
   "source": [
    "stock = df[\"Close\"]"
   ]
  },
  {
   "cell_type": "code",
   "execution_count": 6,
   "metadata": {},
   "outputs": [
    {
     "data": {
      "text/plain": [
       "[<matplotlib.lines.Line2D at 0x1c6aa947af0>]"
      ]
     },
     "execution_count": 6,
     "metadata": {},
     "output_type": "execute_result"
    },
    {
     "data": {
      "image/png": "[encoded data removed]",
      "text/plain": [
       "<Figure size 432x288 with 1 Axes>"
      ]
     },
     "metadata": {
      "needs_background": "light"
     },
     "output_type": "display_data"
    }
   ],
   "source": [
    "plt.plot(stock)"
   ]
  },
  {
   "cell_type": "code",
   "execution_count": 7,
   "metadata": {},
   "outputs": [],
   "source": [
    "#Minmax Scaling\n",
    "def minmax(X):\n",
    "  return (X - X.min())/ (X.max() - X.min())\n",
    "\n",
    "stock_scaled = minmax(stock)"
   ]
  },
  {
   "cell_type": "code",
   "execution_count": 8,
   "metadata": {},
   "outputs": [
    {
     "data": {
      "text/plain": [
       "0       0.002747\n",
       "1       0.004329\n",
       "2       0.001478\n",
       "3       0.002040\n",
       "4       0.002060\n",
       "          ...   \n",
       "5199    0.512488\n",
       "5200    0.530636\n",
       "5201    0.515901\n",
       "5202    0.525828\n",
       "5203    0.531739\n",
       "Name: Close, Length: 5204, dtype: float64"
      ]
     },
     "execution_count": 8,
     "metadata": {},
     "output_type": "execute_result"
    }
   ],
   "source": [
    "stock_scaled\n"
   ]
  },
  {
   "cell_type": "code",
   "execution_count": 9,
   "metadata": {},
   "outputs": [],
   "source": [
    "train = stock_scaled.head(3642)\n",
    "test = stock_scaled.tail(1562)"
   ]
  },
  {
   "cell_type": "code",
   "execution_count": 10,
   "metadata": {},
   "outputs": [],
   "source": [
    "# Prepare data\n",
    "def prepare_data(data, time_step):\n",
    "    X, y =[],[]\n",
    "    for i in range(len(data)):\n",
    "        # find the end of this pattern\n",
    "        end_ix = i + time_step\n",
    "        # check if we are beyond the sequence\n",
    "        if end_ix > len(data)-1:\n",
    "            break\n",
    "        # gather input and output parts of the pattern\n",
    "        seq_x, seq_y = data[i:end_ix], data[end_ix]\n",
    "        X.append(seq_x)\n",
    "        y.append(seq_y)\n",
    "    return np.array(X), np.array(y)"
   ]
  },
  {
   "cell_type": "code",
   "execution_count": 11,
   "metadata": {},
   "outputs": [],
   "source": [
    "\n",
    "time_step = 100\n",
    "X_train, y_train = prepare_data(train.values,time_step)\n",
    "X_test, y_test = prepare_data(test.values, time_step)"
   ]
  },
  {
   "cell_type": "code",
   "execution_count": 12,
   "metadata": {},
   "outputs": [],
   "source": [
    "\n",
    "# reshape input to be [samples, time steps, features] which is required for LSTM\n",
    "X_train =X_train.reshape(X_train.shape[0],X_train.shape[1] , 1)\n",
    "X_test = X_test.reshape(X_test.shape[0],X_test.shape[1] , 1)\n"
   ]
  },
  {
   "cell_type": "code",
   "execution_count": 13,
   "metadata": {},
   "outputs": [
    {
     "name": "stdout",
     "output_type": "stream",
     "text": [
      "Epoch 1/100\n",
      "36/36 [==============================] - 16s 250ms/step - loss: 0.0397\n",
      "Epoch 2/100\n",
      "36/36 [==============================] - 9s 240ms/step - loss: 0.0017\n",
      "Epoch 3/100\n",
      "36/36 [==============================] - 9s 239ms/step - loss: 0.0022\n",
      "Epoch 4/100\n",
      "36/36 [==============================] - 9s 239ms/step - loss: 0.0022\n",
      "Epoch 5/100\n",
      "36/36 [==============================] - 9s 241ms/step - loss: 0.0020\n",
      "Epoch 6/100\n",
      "36/36 [==============================] - 9s 239ms/step - loss: 0.0013\n",
      "Epoch 7/100\n",
      "36/36 [==============================] - 9s 240ms/step - loss: 0.0017\n",
      "Epoch 8/100\n",
      "36/36 [==============================] - 9s 242ms/step - loss: 0.0019\n",
      "Epoch 9/100\n",
      "36/36 [==============================] - 9s 245ms/step - loss: 0.0012\n",
      "Epoch 10/100\n",
      "36/36 [==============================] - 9s 243ms/step - loss: 0.0012\n",
      "Epoch 11/100\n",
      "36/36 [==============================] - 9s 250ms/step - loss: 0.0011\n",
      "Epoch 12/100\n",
      "36/36 [==============================] - 9s 248ms/step - loss: 0.0015\n",
      "Epoch 13/100\n",
      "36/36 [==============================] - 9s 247ms/step - loss: 8.1871e-04\n",
      "Epoch 14/100\n",
      "36/36 [==============================] - 9s 245ms/step - loss: 7.3481e-04\n",
      "Epoch 15/100\n",
      "36/36 [==============================] - 9s 247ms/step - loss: 9.2658e-04\n",
      "Epoch 16/100\n",
      "36/36 [==============================] - 9s 247ms/step - loss: 5.4530e-04\n",
      "Epoch 17/100\n",
      "36/36 [==============================] - 9s 243ms/step - loss: 5.0665e-04\n",
      "Epoch 18/100\n",
      "36/36 [==============================] - 9s 249ms/step - loss: 8.4214e-04\n",
      "Epoch 19/100\n",
      "36/36 [==============================] - 9s 243ms/step - loss: 4.8615e-04\n",
      "Epoch 20/100\n",
      "36/36 [==============================] - 9s 242ms/step - loss: 5.7269e-04\n",
      "Epoch 21/100\n",
      "36/36 [==============================] - 9s 241ms/step - loss: 6.5697e-04\n",
      "Epoch 22/100\n",
      "36/36 [==============================] - 9s 243ms/step - loss: 3.7608e-04\n",
      "Epoch 23/100\n",
      "36/36 [==============================] - 9s 251ms/step - loss: 4.9649e-04\n",
      "Epoch 24/100\n",
      "36/36 [==============================] - 9s 241ms/step - loss: 7.5737e-04\n",
      "Epoch 25/100\n",
      "36/36 [==============================] - 9s 241ms/step - loss: 6.1153e-04\n",
      "Epoch 26/100\n",
      "36/36 [==============================] - 9s 242ms/step - loss: 5.5104e-04\n",
      "Epoch 27/100\n",
      "36/36 [==============================] - 9s 242ms/step - loss: 2.9677e-04\n",
      "Epoch 28/100\n",
      "36/36 [==============================] - 9s 243ms/step - loss: 6.5677e-04\n",
      "Epoch 29/100\n",
      "36/36 [==============================] - 9s 242ms/step - loss: 3.2786e-04\n",
      "Epoch 30/100\n",
      "36/36 [==============================] - 9s 249ms/step - loss: 6.3742e-04\n",
      "Epoch 31/100\n",
      "36/36 [==============================] - 9s 248ms/step - loss: 8.1959e-04\n",
      "Epoch 32/100\n",
      "36/36 [==============================] - 9s 247ms/step - loss: 6.2060e-04\n",
      "Epoch 33/100\n",
      "36/36 [==============================] - 9s 253ms/step - loss: 3.3091e-04\n",
      "Epoch 34/100\n",
      "36/36 [==============================] - 9s 246ms/step - loss: 2.3130e-04\n",
      "Epoch 35/100\n",
      "36/36 [==============================] - 9s 242ms/step - loss: 3.8793e-04\n",
      "Epoch 36/100\n",
      "36/36 [==============================] - 9s 245ms/step - loss: 8.3987e-04\n",
      "Epoch 37/100\n",
      "36/36 [==============================] - 9s 243ms/step - loss: 3.9109e-04\n",
      "Epoch 38/100\n",
      "36/36 [==============================] - 9s 245ms/step - loss: 1.8250e-04\n",
      "Epoch 39/100\n",
      "36/36 [==============================] - 9s 243ms/step - loss: 5.6844e-04\n",
      "Epoch 40/100\n",
      "36/36 [==============================] - 9s 243ms/step - loss: 2.4808e-04\n",
      "Epoch 41/100\n",
      "36/36 [==============================] - 9s 251ms/step - loss: 4.9173e-04\n",
      "Epoch 42/100\n",
      "36/36 [==============================] - 9s 247ms/step - loss: 2.4857e-04\n",
      "Epoch 43/100\n",
      "36/36 [==============================] - 9s 243ms/step - loss: 2.7070e-04\n",
      "Epoch 44/100\n",
      "36/36 [==============================] - 9s 241ms/step - loss: 2.7874e-04\n",
      "Epoch 45/100\n",
      "36/36 [==============================] - 9s 245ms/step - loss: 2.7873e-04\n",
      "Epoch 46/100\n",
      "36/36 [==============================] - 9s 249ms/step - loss: 3.2971e-04\n",
      "Epoch 47/100\n",
      "36/36 [==============================] - 9s 241ms/step - loss: 6.4096e-04\n",
      "Epoch 48/100\n",
      "36/36 [==============================] - 9s 242ms/step - loss: 2.7141e-04\n",
      "Epoch 49/100\n",
      "36/36 [==============================] - 9s 243ms/step - loss: 2.2626e-04\n",
      "Epoch 50/100\n",
      "36/36 [==============================] - 9s 247ms/step - loss: 5.0487e-04\n",
      "Epoch 51/100\n",
      "36/36 [==============================] - 9s 243ms/step - loss: 1.9461e-04\n",
      "Epoch 52/100\n",
      "36/36 [==============================] - 9s 245ms/step - loss: 2.8654e-04\n",
      "Epoch 53/100\n",
      "36/36 [==============================] - 9s 244ms/step - loss: 2.3128e-04\n",
      "Epoch 54/100\n",
      "36/36 [==============================] - 9s 241ms/step - loss: 5.4496e-04\n",
      "Epoch 55/100\n",
      "36/36 [==============================] - 9s 244ms/step - loss: 4.4238e-04\n",
      "Epoch 56/100\n",
      "36/36 [==============================] - 9s 243ms/step - loss: 2.1367e-04\n",
      "Epoch 57/100\n",
      "36/36 [==============================] - 9s 243ms/step - loss: 5.5902e-04\n",
      "Epoch 58/100\n",
      "36/36 [==============================] - 9s 242ms/step - loss: 3.5818e-04\n",
      "Epoch 59/100\n",
      "36/36 [==============================] - 9s 242ms/step - loss: 3.0450e-04\n",
      "Epoch 60/100\n",
      "36/36 [==============================] - 9s 242ms/step - loss: 4.5713e-04\n",
      "Epoch 61/100\n",
      "36/36 [==============================] - 9s 242ms/step - loss: 2.5955e-04\n",
      "Epoch 62/100\n",
      "36/36 [==============================] - 9s 241ms/step - loss: 2.8936e-04\n",
      "Epoch 63/100\n",
      "36/36 [==============================] - 9s 244ms/step - loss: 5.5237e-04\n",
      "Epoch 64/100\n",
      "36/36 [==============================] - 9s 244ms/step - loss: 1.8194e-04\n",
      "Epoch 65/100\n",
      "36/36 [==============================] - 9s 241ms/step - loss: 5.5744e-04\n",
      "Epoch 66/100\n",
      "36/36 [==============================] - 9s 241ms/step - loss: 1.4450e-04\n",
      "Epoch 67/100\n",
      "36/36 [==============================] - 9s 242ms/step - loss: 4.1544e-04\n",
      "Epoch 68/100\n",
      "36/36 [==============================] - 9s 243ms/step - loss: 5.4902e-04\n",
      "Epoch 69/100\n",
      "36/36 [==============================] - 9s 244ms/step - loss: 2.3843e-04\n",
      "Epoch 70/100\n",
      "36/36 [==============================] - 9s 244ms/step - loss: 2.7084e-04\n",
      "Epoch 71/100\n",
      "36/36 [==============================] - 9s 244ms/step - loss: 2.2397e-04\n",
      "Epoch 72/100\n",
      "36/36 [==============================] - 9s 242ms/step - loss: 3.0443e-04\n",
      "Epoch 73/100\n",
      "36/36 [==============================] - 9s 243ms/step - loss: 3.4687e-04\n",
      "Epoch 74/100\n",
      "36/36 [==============================] - 9s 247ms/step - loss: 1.8531e-04\n",
      "Epoch 75/100\n",
      "36/36 [==============================] - 9s 243ms/step - loss: 1.4883e-04\n",
      "Epoch 76/100\n",
      "36/36 [==============================] - 9s 241ms/step - loss: 2.9311e-04\n",
      "Epoch 77/100\n",
      "36/36 [==============================] - 9s 240ms/step - loss: 5.7183e-04\n",
      "Epoch 78/100\n",
      "36/36 [==============================] - 9s 241ms/step - loss: 3.3556e-04\n",
      "Epoch 79/100\n",
      "36/36 [==============================] - 9s 249ms/step - loss: 4.0690e-04\n",
      "Epoch 80/100\n",
      "36/36 [==============================] - 9s 258ms/step - loss: 1.7618e-04\n",
      "Epoch 81/100\n",
      "36/36 [==============================] - 9s 248ms/step - loss: 6.0828e-04\n",
      "Epoch 82/100\n",
      "36/36 [==============================] - 9s 243ms/step - loss: 2.8830e-04\n",
      "Epoch 83/100\n",
      "36/36 [==============================] - 9s 246ms/step - loss: 2.3030e-04\n",
      "Epoch 84/100\n",
      "36/36 [==============================] - 9s 247ms/step - loss: 7.5127e-04\n",
      "Epoch 85/100\n",
      "36/36 [==============================] - 9s 243ms/step - loss: 2.8050e-04\n",
      "Epoch 86/100\n",
      "36/36 [==============================] - 9s 248ms/step - loss: 3.7686e-04\n",
      "Epoch 87/100\n",
      "36/36 [==============================] - 9s 243ms/step - loss: 9.1571e-04\n",
      "Epoch 88/100\n",
      "36/36 [==============================] - 9s 242ms/step - loss: 2.5534e-04\n",
      "Epoch 89/100\n",
      "36/36 [==============================] - 9s 242ms/step - loss: 5.5719e-04\n",
      "Epoch 90/100\n",
      "36/36 [==============================] - 9s 242ms/step - loss: 1.2962e-04\n",
      "Epoch 91/100\n",
      "36/36 [==============================] - 9s 240ms/step - loss: 2.7396e-04\n",
      "Epoch 92/100\n",
      "36/36 [==============================] - 9s 242ms/step - loss: 3.6116e-04\n",
      "Epoch 93/100\n",
      "36/36 [==============================] - 9s 243ms/step - loss: 1.9010e-04\n",
      "Epoch 94/100\n",
      "36/36 [==============================] - 9s 242ms/step - loss: 2.6040e-04\n",
      "Epoch 95/100\n"
     ]
    },
    {
     "name": "stdout",
     "output_type": "stream",
     "text": [
      "36/36 [==============================] - 9s 261ms/step - loss: 2.9002e-04\n",
      "Epoch 96/100\n",
      "36/36 [==============================] - 9s 264ms/step - loss: 2.0121e-04\n",
      "Epoch 97/100\n",
      "36/36 [==============================] - 9s 252ms/step - loss: 3.1176e-04\n",
      "Epoch 98/100\n",
      "36/36 [==============================] - 9s 244ms/step - loss: 1.2606e-04\n",
      "Epoch 99/100\n",
      "36/36 [==============================] - 9s 243ms/step - loss: 2.9515e-04\n",
      "Epoch 100/100\n",
      "36/36 [==============================] - 9s 246ms/step - loss: 4.4516e-04\n"
     ]
    },
    {
     "data": {
      "text/plain": [
       "<tensorflow.python.keras.callbacks.History at 0x1c6ac67bac0>"
      ]
     },
     "execution_count": 13,
     "metadata": {},
     "output_type": "execute_result"
    }
   ],
   "source": [
    "model=Sequential()\n",
    "model.add(LSTM(50,return_sequences=True,input_shape=(time_step,1)))\n",
    "model.add(LSTM(50,return_sequences=True))\n",
    "model.add(LSTM(50))\n",
    "model.add(Dense(1))\n",
    "model.compile(loss='mean_squared_error',optimizer='adam')\n",
    "\n",
    "model.fit(X_train,y_train,epochs=100,batch_size=100)"
   ]
  },
  {
   "cell_type": "code",
   "execution_count": 14,
   "metadata": {},
   "outputs": [],
   "source": [
    "y_pred = model.predict(X_test)"
   ]
  },
  {
   "cell_type": "code",
   "execution_count": 15,
   "metadata": {},
   "outputs": [
    {
     "data": {
      "text/plain": [
       "41.63800770181121"
      ]
     },
     "execution_count": 15,
     "metadata": {},
     "output_type": "execute_result"
    }
   ],
   "source": [
    "\n",
    "# reverse scaling\n",
    "def minmax_reverse(X_norm,X):\n",
    "    return (X_norm * (X.max() - X.min())) + X.min()\n",
    "y_pred_actual = minmax_reverse(y_pred,stock)\n",
    "y_test_actual = minmax_reverse(y_test,stock)\n",
    "\n",
    "np.sqrt(mean_squared_error(y_test_actual,y_pred_actual))"
   ]
  },
  {
   "cell_type": "code",
   "execution_count": 16,
   "metadata": {},
   "outputs": [
    {
     "data": {
      "image/png": "[encoded data removed]",
      "text/plain": [
       "<Figure size 432x288 with 1 Axes>"
      ]
     },
     "metadata": {
      "needs_background": "light"
     },
     "output_type": "display_data"
    }
   ],
   "source": [
    "# plot original and predicted values\n",
    "plt.figure()\n",
    "plt.plot(y_test_actual,label=\"original\")\n",
    "plt.plot(y_pred_actual,label=\"predicted\")\n",
    "plt.legend()\n",
    "plt.show()"
   ]
  },
  {
   "cell_type": "code",
   "execution_count": 17,
   "metadata": {},
   "outputs": [],
   "source": [
    "\n",
    "n = 200\n",
    "predicted_values = []\n",
    "last_100 = X_test[-1].reshape(1,100,1)\n",
    "\n",
    "while n>=1:\n",
    "  predicted = model.predict(last_100)\n",
    "  predicted_values.append(predicted[0][0])\n",
    "  last_100 = np.append(last_100,predicted)[1:].reshape(1,100,1)\n",
    "  n-=1"
   ]
  },
  {
   "cell_type": "code",
   "execution_count": 18,
   "metadata": {},
   "outputs": [],
   "source": [
    "forecast = minmax_reverse(np.array(predicted_values),stock)"
   ]
  },
  {
   "cell_type": "code",
   "execution_count": 19,
   "metadata": {},
   "outputs": [
    {
     "data": {
      "text/plain": [
       "array([1437.4249, 1448.8633, 1461.9167, 1475.4149, 1489.131 , 1503.0302,\n",
       "       1517.1736, 1531.659 , 1546.5673, 1561.9277, 1577.7106, 1593.8375,\n",
       "       1610.2067, 1626.7179, 1643.2932, 1659.8889, 1676.4957, 1693.1328,\n",
       "       1709.8357, 1726.6465, 1743.603 , 1760.7354, 1778.0638, 1795.6007,\n",
       "       1813.3531, 1831.3254, 1849.5172, 1867.93  , 1886.5585, 1905.3926,\n",
       "       1924.4158, 1943.6019, 1962.9177, 1982.3208, 2001.7644, 2021.1953,\n",
       "       2040.5598, 2059.801 , 2078.8638, 2097.695 , 2116.2463, 2134.471 ,\n",
       "       2152.3313, 2169.7974, 2186.8462, 2203.466 , 2219.6538, 2235.417 ,\n",
       "       2250.7705, 2265.738 , 2280.3477, 2294.63  , 2308.6177, 2322.3386,\n",
       "       2335.8157, 2349.0637, 2362.087 , 2374.8784, 2387.4185, 2399.6746,\n",
       "       2411.6042, 2423.1577, 2434.2793, 2444.914 , 2455.012 , 2464.5325,\n",
       "       2473.452 , 2481.765 , 2489.492 , 2496.6763, 2503.3872, 2509.7146,\n",
       "       2515.7664, 2521.659 , 2527.5083, 2533.4204, 2539.4792, 2545.738 ,\n",
       "       2552.2112, 2558.865 , 2565.6216, 2572.358 , 2578.9126, 2585.099 ,\n",
       "       2590.7192, 2595.584 , 2599.533 , 2602.457 , 2604.3184, 2605.1665,\n",
       "       2605.1438, 2604.4897, 2603.5264, 2602.636 , 2602.2322, 2602.7175,\n",
       "       2604.4412, 2607.6548, 2612.4778, 2618.8645, 2626.592 , 2635.2585,\n",
       "       2644.297 , 2653.0098, 2660.6145, 2666.3127, 2669.3672, 2669.1956,\n",
       "       2665.4587, 2658.1501, 2647.6582, 2634.7888, 2620.743 , 2607.027 ,\n",
       "       2595.3118, 2587.2493, 2584.2766, 2587.4417, 2597.2642, 2613.6528,\n",
       "       2635.8694, 2662.531 , 2691.6418, 2720.6592, 2746.605 , 2766.24  ,\n",
       "       2776.314 , 2773.921 , 2756.938 , 2724.5337, 2677.6677, 2619.4673,\n",
       "       2555.2834, 2492.2126, 2438.018 , 2399.7078, 2382.331 , 2388.471 ,\n",
       "       2418.4414, 2470.7935, 2542.7305, 2630.2444, 2727.997 , 2829.0457,\n",
       "       2924.5613, 3003.7568, 3054.2551, 3063.0073, 3017.7305, 2908.8933,\n",
       "       2732.8757, 2497.549 , 2229.8398, 1976.7856, 1785.1458, 1671.5295,\n",
       "       1623.4113, 1623.2021, 1659.3829, 1725.0663, 1815.2639, 1925.3735,\n",
       "       2050.5159, 2185.4429, 2324.7656, 2463.1387, 2594.9744, 2713.508 ,\n",
       "       2809.6208, 2871.3386, 2884.6802, 2835.7551, 2713.715 , 2515.0625,\n",
       "       2251.0447, 1957.502 , 1693.9045, 1510.273 , 1410.6357, 1369.8726,\n",
       "       1366.9589, 1390.6855, 1434.6619, 1494.2778, 1565.4899, 1644.4408,\n",
       "       1727.5468, 1811.8215, 1895.1616, 1976.3252, 2054.4587, 2128.3054,\n",
       "       2195.4607, 2252.1008, 2293.4092, 2314.5847, 2312.1082, 2284.8904,\n",
       "       2235.0327, 2168.0603], dtype=float32)"
      ]
     },
     "execution_count": 19,
     "metadata": {},
     "output_type": "execute_result"
    }
   ],
   "source": [
    "forecast"
   ]
  },
  {
   "cell_type": "code",
   "execution_count": 20,
   "metadata": {},
   "outputs": [
    {
     "data": {
      "image/png": "[encoded data removed]",
      "text/plain": [
       "<Figure size 432x288 with 1 Axes>"
      ]
     },
     "metadata": {
      "needs_background": "light"
     },
     "output_type": "display_data"
    }
   ],
   "source": [
    "plt.figure()\n",
    "plt.plot(stock.index,stock)\n",
    "plt.plot(np.arange(5204,5404),forecast)\n",
    "plt.show()"
   ]
  },
  {
   "cell_type": "code",
   "execution_count": null,
   "metadata": {},
   "outputs": [],
   "source": []
  }
 ],
 "metadata": {
  "kernelspec": {
   "display_name": "Python 3",
   "language": "python",
   "name": "python3"
  },
  "language_info": {
   "codemirror_mode": {
    "name": "ipython",
    "version": 3
   },
   "file_extension": ".py",
   "mimetype": "text/x-python",
   "name": "python",
   "nbconvert_exporter": "python",
   "pygments_lexer": "ipython3",
   "version": "3.8.5"
  }
 },
 "nbformat": 4,
 "nbformat_minor": 4
}
